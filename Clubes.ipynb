{
  "nbformat": 4,
  "nbformat_minor": 0,
  "metadata": {
    "colab": {
      "provenance": [],
      "authorship_tag": "ABX9TyPF4C46ZQIDABnab92NWATh",
      "include_colab_link": true
    },
    "kernelspec": {
      "name": "python3",
      "display_name": "Python 3"
    },
    "language_info": {
      "name": "python"
    }
  },
  "cells": [
    {
      "cell_type": "markdown",
      "metadata": {
        "id": "view-in-github",
        "colab_type": "text"
      },
      "source": [
        "<a href=\"https://colab.research.google.com/github/DanielFerreira3900/PremierLeague/blob/main/Clubes.ipynb\" target=\"_parent\"><img src=\"https://colab.research.google.com/assets/colab-badge.svg\" alt=\"Open In Colab\"/></a>"
      ]
    },
    {
      "cell_type": "markdown",
      "source": [
        "Web Scrapping dos times\n"
      ],
      "metadata": {
        "id": "ODyBU-rG3oaC"
      }
    },
    {
      "cell_type": "code",
      "execution_count": null,
      "metadata": {
        "id": "BPu69uor3nfS"
      },
      "outputs": [],
      "source": [
        "mport requests\n",
        "from bs4 import BeautifulSoup\n",
        "import pandas as pd\n",
        "\n",
        "# Dicionário com clubes e URLs\n",
        "times_url = {\n",
        "    \"Manchester City\": \"https://www.transfermarkt.com/manchester-city/startseite/verein/281/saison_id/2024\",\n",
        "    \"Arsenal\": \"https://www.transfermarkt.com/fc-arsenal/startseite/verein/11/saison_id/2024\",\n",
        "    \"Liverpool\": \"https://www.transfermarkt.com/fc-liverpool/startseite/verein/31/saison_id/2024\",\n",
        "    \"Aston Villa\": \"https://www.transfermarkt.com/aston-villa/startseite/verein/405/saison_id/2024\",\n",
        "    \"Tottenham\": \"https://www.transfermarkt.com/tottenham-hotspur/startseite/verein/148/saison_id/2024\",\n",
        "    \"Manchester United\": \"https://www.transfermarkt.com/manchester-united/startseite/verein/985/saison_id/2024\",\n",
        "    \"Newcastle United\": \"https://www.transfermarkt.com/newcastle-united/startseite/verein/762/saison_id/2024\",\n",
        "    \"West Ham\": \"https://www.transfermarkt.com/west-ham-united/startseite/verein/379/saison_id/2024\",\n",
        "    \"Chelsea\": \"https://www.transfermarkt.com/fc-chelsea/startseite/verein/631/saison_id/2024\",\n",
        "    \"Wolverhampton\": \"https://www.transfermarkt.com/wolverhampton-wanderers/startseite/verein/543/saison_id/2024\",\n",
        "    \"Brighton\": \"https://www.transfermarkt.com/brighton-amp-hove-albion/startseite/verein/1237/saison_id/2024\",\n",
        "    \"Fulham\": \"https://www.transfermarkt.com/fc-fulham/startseite/verein/931/saison_id/2024\",\n",
        "    \"Bournemouth\": \"https://www.transfermarkt.com/afc-bournemouth/startseite/verein/989/saison_id/2024\",\n",
        "    \"Crystal Palace\": \"https://www.transfermarkt.com/crystal-palace/startseite/verein/873/saison_id/2024\",\n",
        "    \"Brentford\": \"https://www.transfermarkt.com/brentford-fc/startseite/verein/1148/saison_id/2024\",\n",
        "    \"Everton\": \"https://www.transfermarkt.com/fc-everton/startseite/verein/29/saison_id/2024\",\n",
        "    \"Nottingham Forest\": \"https://www.transfermarkt.com/nottingham-forest/startseite/verein/703/saison_id/2024\",\n",
        "    \"Luton Town\": \"https://www.transfermarkt.com/luton-town/startseite/verein/1031/saison_id/2024\",\n",
        "    \"Burnley\": \"https://www.transfermarkt.com/fc-burnley/startseite/verein/1132/saison_id/2024\",\n",
        "    \"Sheffield United\": \"https://www.transfermarkt.com/sheffield-united/startseite/verein/350/saison_id/2024\"\n",
        "}\n",
        "\n",
        "headers = {\n",
        "    'User-Agent': 'Mozilla/5.0'\n",
        "}\n",
        "\n",
        "# Funções auxiliares\n",
        "def converter_valor_mercado(valor):\n",
        "    try:\n",
        "        valor = valor.lower().replace('€', '').replace('milhões', ' mi').replace('mil', ' mil')\n",
        "        if 'mil' in valor:\n",
        "            return float(valor.replace(' mil', '').replace(',', '.')) * 1_000\n",
        "        elif 'mi' in valor:\n",
        "            return float(valor.replace(' mi', '').replace(',', '.')) * 1_000_000\n",
        "        return None\n",
        "    except:\n",
        "        return None\n",
        "\n",
        "def extrair_idade(texto):\n",
        "    try:\n",
        "        return texto.split(' ')[1].strip('()')\n",
        "    except:\n",
        "        return None\n",
        "\n",
        "def extrair_ano_nascimento(texto):\n",
        "    try:\n",
        "        return texto.split(' ')[0]\n",
        "    except:\n",
        "        return None\n",
        "\n",
        "# Coletar dados de todos os clubes\n",
        "def coletar_dados():\n",
        "    data = []\n",
        "    for clube, url in times_url.items():\n",
        "        print(f'🔎 Acessando {clube}...')\n",
        "        try:\n",
        "            response = requests.get(url, headers=headers)\n",
        "            if response.status_code != 200:\n",
        "                print(f'❌ Erro {response.status_code} ao acessar {url}')\n",
        "                continue\n",
        "\n",
        "            soup = BeautifulSoup(response.content, 'html.parser')\n",
        "            tabela = soup.find('table', {'class': 'items'})\n",
        "            if not tabela:\n",
        "                print(f'❌ Tabela não encontrada para {clube}')\n",
        "                continue\n",
        "\n",
        "            linhas = tabela.find_all('tr', class_=['odd', 'even'])\n",
        "            for linha in linhas:\n",
        "                try:\n",
        "                    nome = linha.find('td', {'class': 'hauptlink'}).text.strip()\n",
        "                    posicao = linha.find_all('td')[4].text.strip()\n",
        "                    idade_raw = linha.find_all('td')[5].text.strip()\n",
        "                    valor_raw = linha.find('td', {'class': 'rechts hauptlink'}).text.strip()\n",
        "\n",
        "                    idade = extrair_idade(idade_raw)\n",
        "                    nascimento = extrair_ano_nascimento(idade_raw)\n",
        "                    valor_convertido = converter_valor_mercado(valor_raw)\n",
        "\n",
        "                    data.append([\n",
        "                        nome, clube, posicao, idade, nascimento, valor_raw, valor_convertido\n",
        "                    ])\n",
        "                except Exception as e:\n",
        "                    print(f'⚠️ Erro ao extrair jogador de {clube}: {e}')\n",
        "        except Exception as erro:\n",
        "            print(f'Erro de conexão com {clube}: {erro}')\n",
        "    return data\n",
        "\n",
        "# Execução principal\n",
        "dados = coletar_dados()\n",
        "\n",
        "# Criar DataFrame\n",
        "df = pd.DataFrame(dados, columns=[\n",
        "    'Nome do Jogador', 'Clube', 'Posição', 'Idade', 'Ano de Nascimento',\n",
        "    'Valor de Mercado (texto)', 'Valor de Mercado (€)'\n",
        "])\n",
        "\n",
        "# Exportar\n",
        "df.to_excel('dados_premier_league_2024.xlsx', index=False)\n",
        "df.to_csv('dados_premier_league_2024.csv', index=False)\n",
        "print(\"✅ Dados salvos com sucesso!\")\n",
        "\n",
        " df.head()"
      ]
    }
  ]
}